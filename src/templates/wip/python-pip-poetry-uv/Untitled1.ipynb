{
 "cells": [
  {
   "cell_type": "code",
   "execution_count": 1,
   "id": "66095796",
   "metadata": {},
   "outputs": [],
   "source": [
    "from rdkit import Chem\n",
    "from rdkit.Chem.Draw import rdMolDraw2D\n",
    "from rdkit.Chem import MolFromSmiles"
   ]
  },
  {
   "cell_type": "code",
   "execution_count": 2,
   "id": "66c11564",
   "metadata": {},
   "outputs": [],
   "source": [
    "def smiles_to_svg(\n",
    "     input_smile,\n",
    "     name_svg,\n",
    "     canvas_width_pixels=1000, \n",
    "     canvas_height_pixels=1000,\n",
    "     \n",
    "):\n",
    "    mol = MolFromSmiles(input_smile)\n",
    "    mol = rdMolDraw2D.PrepareMolForDrawing(mol)\n",
    "\n",
    "    drawer = rdMolDraw2D.MolDraw2DSVG(canvas_width_pixels, canvas_height_pixels)\n",
    "    drawer.DrawMolecule(mol)\n",
    "    drawer.FinishDrawing()\n",
    "\n",
    "    svg = drawer.GetDrawingText()\n",
    "\n",
    "    with open(name_svg, 'w') as f:\n",
    "        f.write(svg)\n"
   ]
  },
  {
   "cell_type": "code",
   "execution_count": 3,
   "id": "3b59e067",
   "metadata": {},
   "outputs": [],
   "source": [
    "d = {\n",
    "    'caffeine': 'CN1C=NC2=C1C(=O)N(C(=O)N2C)C',\n",
    "    'chlorophyll': 'CCC1=C(C2=NC1=CC3=C(C4=C(C(C(=C4[N-]3)C5=NC(=CC6=NC(=C2)C(=C6C)C=C)C(C5CCC(=O)OCC=C(C)CCCC(C)CCCC(C)CCCC(C)C)C)C(=O)OC)[O-])C)C.[Mg+2]',\n",
    "    'cephalostatin_1': 'CC(C)(O1)C[C@@H](O)[C@@]1(O2)[C@@H](C)[C@@H]3CC=C4[C@]3(C2)C(=O)C[C@H]5[C@H]4CC[C@@H](C6)[C@]5(C)Cc(n7)c6nc(C[C@@]89(C))c7C[C@@H]8CC[C@@H]%10[C@@H]9C[C@@H](O)[C@@]%11(C)C%10=C[C@H](O%12)[C@]%11(O)[C@H](C)[C@]%12(O%13)[C@H](O)C[C@@]%13(C)CO',\n",
    "    'beta_carotene': 'CC2(C)CCCC(\\C)=C2\\C=C\\C(\\C)=C\\C=C\\C(\\C)=C\\C=C\\C=C(/C)\\C=C\\C=C(/C)\\C=C\\C1=C(/C)CCCC1(C)C'\n",
    "}\n",
    "\n",
    "\n",
    "for key, value in d.items():\n",
    "    smiles_to_svg(value, key)\n"
   ]
  },
  {
   "cell_type": "markdown",
   "id": "75f6c61a",
   "metadata": {},
   "source": [
    "Refs.:\n",
    "- https://go.drugbank.com/\n",
    "- https://en.wikipedia.org/wiki/Simplified_molecular-input_line-entry_system\n",
    "- https://github.com/rdkit/rdkit-tutorials/blob/master/notebooks/006_save_rdkit_mol_as_image.ipynb\n",
    "- https://github.com/rdkit/rdkit-tutorials/issues/5#issuecomment-1433134785\n",
    "- https://pubchem.ncbi.nlm.nih.gov/compound/Caffeine\n",
    "- https://stackoverflow.com/a/57919916\n",
    "- https://pubchem.ncbi.nlm.nih.gov/compound/Chlorophyll#section=InChIKey"
   ]
  }
 ],
 "metadata": {
  "kernelspec": {
   "display_name": "Python 3 (ipykernel)",
   "language": "python",
   "name": "python3"
  },
  "language_info": {
   "codemirror_mode": {
    "name": "ipython",
    "version": 3
   },
   "file_extension": ".py",
   "mimetype": "text/x-python",
   "name": "python",
   "nbconvert_exporter": "python",
   "pygments_lexer": "ipython3",
   "version": "3.10.11"
  }
 },
 "nbformat": 4,
 "nbformat_minor": 5
}
